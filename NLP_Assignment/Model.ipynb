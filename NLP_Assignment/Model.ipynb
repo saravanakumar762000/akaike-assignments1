{
 "cells": [
  {
   "cell_type": "markdown",
   "id": "a473b16c",
   "metadata": {},
   "source": [
    "# MCQ Generator using spacy"
   ]
  },
  {
   "cell_type": "code",
   "execution_count": 1,
   "id": "27ae1837",
   "metadata": {},
   "outputs": [
    {
     "name": "stdout",
     "output_type": "stream",
     "text": [
      "Requirement already satisfied: spacy in c:\\users\\hp\\anaconda3\\lib\\site-packages (3.5.2)\n",
      "Requirement already satisfied: spacy-legacy<3.1.0,>=3.0.11 in c:\\users\\hp\\anaconda3\\lib\\site-packages (from spacy) (3.0.12)\n",
      "Requirement already satisfied: setuptools in c:\\users\\hp\\anaconda3\\lib\\site-packages (from spacy) (67.7.2)\n",
      "Requirement already satisfied: pathy>=0.10.0 in c:\\users\\hp\\anaconda3\\lib\\site-packages (from spacy) (0.10.1)\n",
      "Requirement already satisfied: preshed<3.1.0,>=3.0.2 in c:\\users\\hp\\anaconda3\\lib\\site-packages (from spacy) (3.0.8)\n",
      "Requirement already satisfied: tqdm<5.0.0,>=4.38.0 in c:\\users\\hp\\anaconda3\\lib\\site-packages (from spacy) (4.64.1)\n",
      "Requirement already satisfied: wasabi<1.2.0,>=0.9.1 in c:\\users\\hp\\anaconda3\\lib\\site-packages (from spacy) (1.1.1)\n",
      "Requirement already satisfied: catalogue<2.1.0,>=2.0.6 in c:\\users\\hp\\anaconda3\\lib\\site-packages (from spacy) (2.0.8)\n",
      "Requirement already satisfied: requests<3.0.0,>=2.13.0 in c:\\users\\hp\\anaconda3\\lib\\site-packages (from spacy) (2.28.1)\n",
      "Requirement already satisfied: spacy-loggers<2.0.0,>=1.0.0 in c:\\users\\hp\\anaconda3\\lib\\site-packages (from spacy) (1.0.4)\n",
      "Requirement already satisfied: thinc<8.2.0,>=8.1.8 in c:\\users\\hp\\anaconda3\\lib\\site-packages (from spacy) (8.1.10)\n",
      "Requirement already satisfied: smart-open<7.0.0,>=5.2.1 in c:\\users\\hp\\anaconda3\\lib\\site-packages (from spacy) (6.3.0)\n",
      "Requirement already satisfied: jinja2 in c:\\users\\hp\\anaconda3\\lib\\site-packages (from spacy) (3.1.2)\n",
      "Requirement already satisfied: langcodes<4.0.0,>=3.2.0 in c:\\users\\hp\\anaconda3\\lib\\site-packages (from spacy) (3.3.0)\n",
      "Requirement already satisfied: numpy>=1.15.0 in c:\\users\\hp\\anaconda3\\lib\\site-packages (from spacy) (1.24.3)\n",
      "Requirement already satisfied: typer<0.8.0,>=0.3.0 in c:\\users\\hp\\anaconda3\\lib\\site-packages (from spacy) (0.7.0)\n",
      "Requirement already satisfied: cymem<2.1.0,>=2.0.2 in c:\\users\\hp\\anaconda3\\lib\\site-packages (from spacy) (2.0.7)\n",
      "Requirement already satisfied: murmurhash<1.1.0,>=0.28.0 in c:\\users\\hp\\anaconda3\\lib\\site-packages (from spacy) (1.0.9)\n",
      "Requirement already satisfied: packaging>=20.0 in c:\\users\\hp\\anaconda3\\lib\\site-packages (from spacy) (23.1)\n",
      "Requirement already satisfied: pydantic!=1.8,!=1.8.1,<1.11.0,>=1.7.4 in c:\\users\\hp\\anaconda3\\lib\\site-packages (from spacy) (1.10.7)\n",
      "Requirement already satisfied: srsly<3.0.0,>=2.4.3 in c:\\users\\hp\\anaconda3\\lib\\site-packages (from spacy) (2.4.6)\n",
      "Requirement already satisfied: typing-extensions>=4.2.0 in c:\\users\\hp\\anaconda3\\lib\\site-packages (from pydantic!=1.8,!=1.8.1,<1.11.0,>=1.7.4->spacy) (4.5.0)\n",
      "Requirement already satisfied: urllib3<1.27,>=1.21.1 in c:\\users\\hp\\anaconda3\\lib\\site-packages (from requests<3.0.0,>=2.13.0->spacy) (1.26.15)\n",
      "Requirement already satisfied: certifi>=2017.4.17 in c:\\users\\hp\\anaconda3\\lib\\site-packages (from requests<3.0.0,>=2.13.0->spacy) (2022.12.7)\n",
      "Requirement already satisfied: charset-normalizer<3,>=2 in c:\\users\\hp\\anaconda3\\lib\\site-packages (from requests<3.0.0,>=2.13.0->spacy) (2.0.4)\n",
      "Requirement already satisfied: idna<4,>=2.5 in c:\\users\\hp\\anaconda3\\lib\\site-packages (from requests<3.0.0,>=2.13.0->spacy) (3.4)\n",
      "Requirement already satisfied: confection<1.0.0,>=0.0.1 in c:\\users\\hp\\anaconda3\\lib\\site-packages (from thinc<8.2.0,>=8.1.8->spacy) (0.0.4)\n",
      "Requirement already satisfied: blis<0.8.0,>=0.7.8 in c:\\users\\hp\\anaconda3\\lib\\site-packages (from thinc<8.2.0,>=8.1.8->spacy) (0.7.9)\n",
      "Requirement already satisfied: colorama in c:\\users\\hp\\anaconda3\\lib\\site-packages (from tqdm<5.0.0,>=4.38.0->spacy) (0.4.6)\n",
      "Requirement already satisfied: click<9.0.0,>=7.1.1 in c:\\users\\hp\\anaconda3\\lib\\site-packages (from typer<0.8.0,>=0.3.0->spacy) (8.0.4)\n",
      "Requirement already satisfied: MarkupSafe>=2.0 in c:\\users\\hp\\anaconda3\\lib\\site-packages (from jinja2->spacy) (2.1.1)\n"
     ]
    }
   ],
   "source": [
    "!pip install spacy"
   ]
  },
  {
   "cell_type": "code",
   "execution_count": 2,
   "id": "44264e90",
   "metadata": {},
   "outputs": [],
   "source": [
    "import spacy\n",
    "import random"
   ]
  },
  {
   "cell_type": "markdown",
   "id": "2ed316e2",
   "metadata": {},
   "source": [
    "## Load spacy Model\n",
    "\n",
    "Load the english model from spacy"
   ]
  },
  {
   "cell_type": "code",
   "execution_count": 3,
   "id": "cae39c09",
   "metadata": {},
   "outputs": [],
   "source": [
    "nlp=spacy.load(\"en_core_web_sm\")"
   ]
  },
  {
   "cell_type": "markdown",
   "id": "1f0c230f",
   "metadata": {},
   "source": [
    "## process the text chapter using spacy"
   ]
  },
  {
   "cell_type": "code",
   "execution_count": 4,
   "id": "8dbd2efe",
   "metadata": {},
   "outputs": [],
   "source": [
    "def mca_qn(chapter:str,num:int):\n",
    "    doc=nlp(chapter)"
   ]
  },
  {
   "cell_type": "markdown",
   "id": "1a1f7fe7",
   "metadata": {},
   "source": [
    "## Define a mcq generation function\n",
    "\n",
    "Generate a multiple-choice question with multiple correct answers."
   ]
  },
  {
   "cell_type": "code",
   "execution_count": 6,
   "id": "53627647",
   "metadata": {},
   "outputs": [],
   "source": [
    "def generate_mcq(question,correct_answers,other_options,num_options=4):\n",
    "    options=correct_answers+other_options\n",
    "    random.shuffle(options)\n",
    "    \n",
    "    mcq={\n",
    "        \"question\":question,\n",
    "        \"options\":options,\n",
    "        \"correct_answers\":correct_answer\n",
    "    }\n",
    "    \n",
    "    return mcq"
   ]
  },
  {
   "cell_type": "markdown",
   "id": "2adcecb6",
   "metadata": {},
   "source": [
    "## Create the questions\n",
    "#### Generate a fill-in-the-blank variety question based on a random sentence and word from the context."
   ]
  },
  {
   "cell_type": "code",
   "execution_count": 7,
   "id": "7f6f2181",
   "metadata": {},
   "outputs": [],
   "source": [
    "def generate_questions():\n",
    "    ## randomly select the sentence from content\n",
    "    sentence=random.choice(list(doc.sents))\n",
    "    ## randomly get a non_pronounciation words from sentence as blank word\n",
    "    blank_word= random.choice([token for token in sentence if not token.is_punct])\n",
    "    \n",
    "    ## replace the blank word to ______\n",
    "    \n",
    "    qn_text=sentence.text.replace(blank_word.text,\"______\")\n",
    "    \n",
    "    correct_answer=[blank_word.text]\n",
    "    \n",
    "    ## other possible answers\n",
    "    \n",
    "    other_options=[token.text for token in doc if token .is_alpha and token.text !=correct_answers[0]]\n",
    "    ## Generate one or two correct options\n",
    "    \n",
    "    num_correct_options=random.randint(1,2)\n",
    "    \n",
    "    correct_answer.extend(random.sample(other_options,num_correct_options))\n",
    "    \n",
    "    ## incorrect answers\n",
    "    \n",
    "    num_other_options=min(4-num_correct_options,len(other_options))\n",
    "    \n",
    "    other_options=random.sample(other_options,num_other_options)\n",
    "    \n",
    "    \n",
    "    mcq=generate_mcq(qn_text,correct_answer,other_options)\n",
    "    \n",
    "    return mcq"
   ]
  },
  {
   "cell_type": "markdown",
   "id": "a689e59a",
   "metadata": {},
   "source": [
    "### Generate a list of multiple-choice qn with  multiple correct answers based on the chapter"
   ]
  },
  {
   "cell_type": "code",
   "execution_count": null,
   "id": "4b062c35",
   "metadata": {},
   "outputs": [],
   "source": [
    "questions=[generate_questions for _ in range(num_questions)]\n",
    "### format questions,options and correct_answers into strings\n",
    "\n",
    "## create a empty list to store the questions\n",
    "mca_questions=[]\n",
    "\n",
    "for i,question in enumerate(questions,start=1):\n",
    "    \n",
    "    ## create a string for question no and text \n",
    "    question_str= f\"Q{i}: {question['question']}\\n\"\n",
    "    \n",
    "    ## create a option str to store an  option\n",
    "    for j,option in enumerate(question[\"options\"]):\n",
    "    \n",
    "        option_str+=f\"{j+1}.{option}\\n\"\n",
    "    \n",
    "    correct_options_formatted = \" & \".join([f\"({chr(97+question['options'].index(ans))})\" for ans in question['correct_answers']])\n",
    "    correct_options_str = f\"Correct Options: {correct_options_formatted}\"\n",
    "    \n",
    "    mca_question = f\"{question_str}{options_str}\\n{correct_options_str}\\n\"\n",
    "    \n",
    "    mca_questions.append(mca_question)\n",
    "return mca_questions"
   ]
  },
  {
   "cell_type": "code",
   "execution_count": null,
   "id": "d0e69a61",
   "metadata": {},
   "outputs": [],
   "source": [
    "# User input for the paragraph and number of questions\n",
    "chapter = input(\"Enter the paragraph: \")\n",
    "num_questions = int(input(\"Enter the number of questions: \"))\n",
    "\n",
    "# Generate MCQs and print each question along with options and correct answers\n",
    "mca_questions = mca_qn(chapter, num_questions)\n",
    "for question in mca_questions:\n",
    "    print(question)"
   ]
  },
  {
   "cell_type": "code",
   "execution_count": null,
   "id": "3ccc57f1",
   "metadata": {},
   "outputs": [],
   "source": []
  }
 ],
 "metadata": {
  "kernelspec": {
   "display_name": "Python 3 (ipykernel)",
   "language": "python",
   "name": "python3"
  },
  "language_info": {
   "codemirror_mode": {
    "name": "ipython",
    "version": 3
   },
   "file_extension": ".py",
   "mimetype": "text/x-python",
   "name": "python",
   "nbconvert_exporter": "python",
   "pygments_lexer": "ipython3",
   "version": "3.10.9"
  }
 },
 "nbformat": 4,
 "nbformat_minor": 5
}
