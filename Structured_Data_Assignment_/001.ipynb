{
 "cells": [
  {
   "cell_type": "markdown",
   "id": "c4569ee7",
   "metadata": {},
   "source": [
    "# Problem 1"
   ]
  },
  {
   "cell_type": "markdown",
   "id": "554ea3b4",
   "metadata": {},
   "source": [
    "# Structured Data Assignement"
   ]
  },
  {
   "cell_type": "markdown",
   "id": "9fa93d57",
   "metadata": {},
   "source": [
    "### The dataset in question contains a comprehensive collection of electronic health records belonging to patients who have been diagnosed with a specific disease. These health records comprise a detailed log of every aspect of the patients' medical history, including all diagnoses, symptoms, prescribed drug treatments, and medical tests that they have undergone. Each row represents a healthcare record/medical event for a patient and it includes a timestamp for each entry/event, thereby allowing for a chronological view of the patient's medical history.\n",
    "\n",
    "#### The Data has mainly three columns\n",
    "\n",
    "### Patient-Uid - Unique Alphanumeric Identifier for a patient\n",
    "### Date - Date when patient encountered the event.\n",
    "### Incident - This columns describes which event occurred on the day."
   ]
  },
  {
   "cell_type": "markdown",
   "id": "9e57af36",
   "metadata": {},
   "source": [
    "# Objective\n",
    "\n",
    "##### To develop a predictive model which will predict whether a patient will be eligible*** for “Target Drug” or not in next 30 days. Knowing if the patient is eligible or not will help physician treating the patient make informed decision on the which treatments to give.\n",
    "\n",
    "##### A patient is considered eligible for a particular drug when they have taken their first prescription for that drug."
   ]
  },
  {
   "cell_type": "code",
   "execution_count": null,
   "id": "843ffff4",
   "metadata": {},
   "outputs": [],
   "source": [
    "import pandas as pd\n",
    "import numpy as np\n",
    "import seaborn as sns\n",
    "import matplotlib.pyplot as plt\n",
    "from sklearn.model_selection import train_test_split\n",
    "from sklearn.preprocessing import LabelBinarizer\n",
    "from sklearn.tree import DecisionTreeClassifier\n",
    "from sklearn.metrics import accuracy_score, confusion_matrix\n",
    "from sklearn.linear_model import LogisticRegression\n",
    "from sklearn.metrics import accuracy_score, confusion_matrix, f1_score,roc_curve,auc\n",
    "from datetime import datetime, timedelta"
   ]
  },
  {
   "cell_type": "code",
   "execution_count": 17,
   "id": "b41e66cc",
   "metadata": {},
   "outputs": [],
   "source": [
    "# read the train and test data\n",
    "train_df = pd.read_parquet(\"train.parquet\")\n",
    "test_df = pd.read_parquet(\"test.parquet\")"
   ]
  },
  {
   "cell_type": "code",
   "execution_count": 19,
   "id": "ae4edced",
   "metadata": {},
   "outputs": [
    {
     "data": {
      "text/html": [
       "<div>\n",
       "<style scoped>\n",
       "    .dataframe tbody tr th:only-of-type {\n",
       "        vertical-align: middle;\n",
       "    }\n",
       "\n",
       "    .dataframe tbody tr th {\n",
       "        vertical-align: top;\n",
       "    }\n",
       "\n",
       "    .dataframe thead th {\n",
       "        text-align: right;\n",
       "    }\n",
       "</style>\n",
       "<table border=\"1\" class=\"dataframe\">\n",
       "  <thead>\n",
       "    <tr style=\"text-align: right;\">\n",
       "      <th></th>\n",
       "      <th>Date</th>\n",
       "      <th>Incident</th>\n",
       "    </tr>\n",
       "    <tr>\n",
       "      <th>Patient-Uid</th>\n",
       "      <th></th>\n",
       "      <th></th>\n",
       "    </tr>\n",
       "  </thead>\n",
       "  <tbody>\n",
       "    <tr>\n",
       "      <th>a0f9e8a9-1c7c-11ec-8d25-16262ee38c7f</th>\n",
       "      <td>2019-05-21</td>\n",
       "      <td>TEST_TYPE_0</td>\n",
       "    </tr>\n",
       "    <tr>\n",
       "      <th>a0f9e9f9-1c7c-11ec-b565-16262ee38c7f</th>\n",
       "      <td>2019-10-23</td>\n",
       "      <td>TEST_TYPE_3</td>\n",
       "    </tr>\n",
       "    <tr>\n",
       "      <th>a0f9ea43-1c7c-11ec-aa10-16262ee38c7f</th>\n",
       "      <td>2019-10-21</td>\n",
       "      <td>TEST_TYPE_1</td>\n",
       "    </tr>\n",
       "    <tr>\n",
       "      <th>a0f9ea7c-1c7c-11ec-af15-16262ee38c7f</th>\n",
       "      <td>2020-03-21</td>\n",
       "      <td>TEST_TYPE_0</td>\n",
       "    </tr>\n",
       "    <tr>\n",
       "      <th>a0f9eab1-1c7c-11ec-a732-16262ee38c7f</th>\n",
       "      <td>2019-11-09</td>\n",
       "      <td>SYMPTOM_TYPE_3</td>\n",
       "    </tr>\n",
       "    <tr>\n",
       "      <th>...</th>\n",
       "      <td>...</td>\n",
       "      <td>...</td>\n",
       "    </tr>\n",
       "    <tr>\n",
       "      <th>a102720c-1c7c-11ec-bd9a-16262ee38c7f</th>\n",
       "      <td>2020-03-24</td>\n",
       "      <td>DRUG_TYPE_7</td>\n",
       "    </tr>\n",
       "    <tr>\n",
       "      <th>a102723c-1c7c-11ec-9f80-16262ee38c7f</th>\n",
       "      <td>2019-07-06</td>\n",
       "      <td>DRUG_TYPE_8</td>\n",
       "    </tr>\n",
       "    <tr>\n",
       "      <th>a102726b-1c7c-11ec-bfbf-16262ee38c7f</th>\n",
       "      <td>2020-01-02</td>\n",
       "      <td>DRUG_TYPE_7</td>\n",
       "    </tr>\n",
       "    <tr>\n",
       "      <th>a102729b-1c7c-11ec-86ba-16262ee38c7f</th>\n",
       "      <td>2019-04-21</td>\n",
       "      <td>DRUG_TYPE_7</td>\n",
       "    </tr>\n",
       "    <tr>\n",
       "      <th>a10272c9-1c7c-11ec-b3ce-16262ee38c7f</th>\n",
       "      <td>2019-03-06</td>\n",
       "      <td>PRIMARY_DIAGNOSIS</td>\n",
       "    </tr>\n",
       "  </tbody>\n",
       "</table>\n",
       "<p>11482 rows × 2 columns</p>\n",
       "</div>"
      ],
      "text/plain": [
       "                                           Date           Incident\n",
       "Patient-Uid                                                       \n",
       "a0f9e8a9-1c7c-11ec-8d25-16262ee38c7f 2019-05-21        TEST_TYPE_0\n",
       "a0f9e9f9-1c7c-11ec-b565-16262ee38c7f 2019-10-23        TEST_TYPE_3\n",
       "a0f9ea43-1c7c-11ec-aa10-16262ee38c7f 2019-10-21        TEST_TYPE_1\n",
       "a0f9ea7c-1c7c-11ec-af15-16262ee38c7f 2020-03-21        TEST_TYPE_0\n",
       "a0f9eab1-1c7c-11ec-a732-16262ee38c7f 2019-11-09     SYMPTOM_TYPE_3\n",
       "...                                         ...                ...\n",
       "a102720c-1c7c-11ec-bd9a-16262ee38c7f 2020-03-24        DRUG_TYPE_7\n",
       "a102723c-1c7c-11ec-9f80-16262ee38c7f 2019-07-06        DRUG_TYPE_8\n",
       "a102726b-1c7c-11ec-bfbf-16262ee38c7f 2020-01-02        DRUG_TYPE_7\n",
       "a102729b-1c7c-11ec-86ba-16262ee38c7f 2019-04-21        DRUG_TYPE_7\n",
       "a10272c9-1c7c-11ec-b3ce-16262ee38c7f 2019-03-06  PRIMARY_DIAGNOSIS\n",
       "\n",
       "[11482 rows x 2 columns]"
      ]
     },
     "execution_count": 19,
     "metadata": {},
     "output_type": "execute_result"
    }
   ],
   "source": [
    "train_df.groupby('Patient-Uid').max()\n",
    "test_df.groupby('Patient-Uid').max()\n",
    "train_df.groupby('Patient-Uid').max()\n",
    "test_df.groupby('Patient-Uid').max()"
   ]
  },
  {
   "cell_type": "code",
   "execution_count": 20,
   "id": "e638c903",
   "metadata": {},
   "outputs": [],
   "source": [
    "train_df.sort_values(by = ['Date'], inplace=True)\n",
    "test_df.sort_values(by = ['Date'], inplace=True)\n",
    "#converting date column to pandas datetime type\n",
    "train_df['Date']=pd.to_datetime(train_df['Date'],format='%Y-%m-%d')"
   ]
  },
  {
   "cell_type": "code",
   "execution_count": 21,
   "id": "66879470",
   "metadata": {},
   "outputs": [],
   "source": [
    "positive_set=train_df[train_df['Incident'] == 'TARGET DRUG']\n",
    "\n",
    "# Set the current date as a reference point\n",
    "current_date = positive_set.Date.max()\n",
    "\n",
    "# Calculate the cutoff date 30 days before the current date\n",
    "cutoff_date = current_date - timedelta(days=30)\n",
    "\n",
    "# Filter the data for patients who have taken \"Target Drug\" within the last 30 days\n",
    "positive_set = train_df[(train_df['Incident'] == 'TARGET DRUG') & (train_df['Date'] >= cutoff_date)]"
   ]
  },
  {
   "cell_type": "code",
   "execution_count": 22,
   "id": "f6a796d9",
   "metadata": {},
   "outputs": [],
   "source": [
    "negative_set = train_df[train_df['Incident'] != 'TARGET DRUG'].sample(frac=1)[:len(positive_set)] "
   ]
  },
  {
   "cell_type": "code",
   "execution_count": 23,
   "id": "2a0a80f4",
   "metadata": {},
   "outputs": [],
   "source": [
    "# Combine the positive and negative sets\n",
    "data = pd.concat([positive_set, negative_set])\n",
    "\n",
    "# Sort the data by date\n",
    "data = data.sort_values(by='Date')\n",
    "\n",
    "# Create a target variable indicating whether the patient is eligible or not\n",
    "data['Eligible'] = np.where(data['Incident'] == 'TARGET DRUG', 1, 0)"
   ]
  },
  {
   "cell_type": "code",
   "execution_count": 24,
   "id": "b1897e8f",
   "metadata": {},
   "outputs": [
    {
     "data": {
      "text/html": [
       "<div>\n",
       "<style scoped>\n",
       "    .dataframe tbody tr th:only-of-type {\n",
       "        vertical-align: middle;\n",
       "    }\n",
       "\n",
       "    .dataframe tbody tr th {\n",
       "        vertical-align: top;\n",
       "    }\n",
       "\n",
       "    .dataframe thead th {\n",
       "        text-align: right;\n",
       "    }\n",
       "</style>\n",
       "<table border=\"1\" class=\"dataframe\">\n",
       "  <thead>\n",
       "    <tr style=\"text-align: right;\">\n",
       "      <th></th>\n",
       "      <th>Patient-Uid</th>\n",
       "      <th>Date</th>\n",
       "      <th>Incident</th>\n",
       "      <th>Eligible</th>\n",
       "    </tr>\n",
       "  </thead>\n",
       "  <tbody>\n",
       "    <tr>\n",
       "      <th>0</th>\n",
       "      <td>a0ecbc2e-1c7c-11ec-8ee5-16262ee38c7f</td>\n",
       "      <td>2015-04-07</td>\n",
       "      <td>DRUG_TYPE_8</td>\n",
       "      <td>0</td>\n",
       "    </tr>\n",
       "    <tr>\n",
       "      <th>1</th>\n",
       "      <td>a0e82813-1c7c-11ec-8ef8-16262ee38c7f</td>\n",
       "      <td>2015-04-09</td>\n",
       "      <td>DRUG_TYPE_2</td>\n",
       "      <td>0</td>\n",
       "    </tr>\n",
       "    <tr>\n",
       "      <th>2</th>\n",
       "      <td>a0e060e7-1c7c-11ec-b507-16262ee38c7f</td>\n",
       "      <td>2015-04-09</td>\n",
       "      <td>SYMPTOM_TYPE_7</td>\n",
       "      <td>0</td>\n",
       "    </tr>\n",
       "    <tr>\n",
       "      <th>3</th>\n",
       "      <td>a0ec2406-1c7c-11ec-b68b-16262ee38c7f</td>\n",
       "      <td>2015-04-09</td>\n",
       "      <td>TEST_TYPE_0</td>\n",
       "      <td>0</td>\n",
       "    </tr>\n",
       "    <tr>\n",
       "      <th>4</th>\n",
       "      <td>a0def04e-1c7c-11ec-9926-16262ee38c7f</td>\n",
       "      <td>2015-04-11</td>\n",
       "      <td>SYMPTOM_TYPE_3</td>\n",
       "      <td>0</td>\n",
       "    </tr>\n",
       "    <tr>\n",
       "      <th>...</th>\n",
       "      <td>...</td>\n",
       "      <td>...</td>\n",
       "      <td>...</td>\n",
       "      <td>...</td>\n",
       "    </tr>\n",
       "    <tr>\n",
       "      <th>5777</th>\n",
       "      <td>a0ec380c-1c7c-11ec-8748-16262ee38c7f</td>\n",
       "      <td>2020-09-03</td>\n",
       "      <td>TARGET DRUG</td>\n",
       "      <td>1</td>\n",
       "    </tr>\n",
       "    <tr>\n",
       "      <th>5778</th>\n",
       "      <td>a0eef62d-1c7c-11ec-990a-16262ee38c7f</td>\n",
       "      <td>2020-09-03</td>\n",
       "      <td>TARGET DRUG</td>\n",
       "      <td>1</td>\n",
       "    </tr>\n",
       "    <tr>\n",
       "      <th>5779</th>\n",
       "      <td>a0eb94c9-1c7c-11ec-98ea-16262ee38c7f</td>\n",
       "      <td>2020-09-03</td>\n",
       "      <td>TARGET DRUG</td>\n",
       "      <td>1</td>\n",
       "    </tr>\n",
       "    <tr>\n",
       "      <th>5780</th>\n",
       "      <td>a0eba474-1c7c-11ec-b39e-16262ee38c7f</td>\n",
       "      <td>2020-09-03</td>\n",
       "      <td>TARGET DRUG</td>\n",
       "      <td>1</td>\n",
       "    </tr>\n",
       "    <tr>\n",
       "      <th>5781</th>\n",
       "      <td>a0eac734-1c7c-11ec-943f-16262ee38c7f</td>\n",
       "      <td>2020-09-03</td>\n",
       "      <td>TARGET DRUG</td>\n",
       "      <td>1</td>\n",
       "    </tr>\n",
       "  </tbody>\n",
       "</table>\n",
       "<p>5782 rows × 4 columns</p>\n",
       "</div>"
      ],
      "text/plain": [
       "                               Patient-Uid       Date        Incident  \\\n",
       "0     a0ecbc2e-1c7c-11ec-8ee5-16262ee38c7f 2015-04-07     DRUG_TYPE_8   \n",
       "1     a0e82813-1c7c-11ec-8ef8-16262ee38c7f 2015-04-09     DRUG_TYPE_2   \n",
       "2     a0e060e7-1c7c-11ec-b507-16262ee38c7f 2015-04-09  SYMPTOM_TYPE_7   \n",
       "3     a0ec2406-1c7c-11ec-b68b-16262ee38c7f 2015-04-09     TEST_TYPE_0   \n",
       "4     a0def04e-1c7c-11ec-9926-16262ee38c7f 2015-04-11  SYMPTOM_TYPE_3   \n",
       "...                                    ...        ...             ...   \n",
       "5777  a0ec380c-1c7c-11ec-8748-16262ee38c7f 2020-09-03     TARGET DRUG   \n",
       "5778  a0eef62d-1c7c-11ec-990a-16262ee38c7f 2020-09-03     TARGET DRUG   \n",
       "5779  a0eb94c9-1c7c-11ec-98ea-16262ee38c7f 2020-09-03     TARGET DRUG   \n",
       "5780  a0eba474-1c7c-11ec-b39e-16262ee38c7f 2020-09-03     TARGET DRUG   \n",
       "5781  a0eac734-1c7c-11ec-943f-16262ee38c7f 2020-09-03     TARGET DRUG   \n",
       "\n",
       "      Eligible  \n",
       "0            0  \n",
       "1            0  \n",
       "2            0  \n",
       "3            0  \n",
       "4            0  \n",
       "...        ...  \n",
       "5777         1  \n",
       "5778         1  \n",
       "5779         1  \n",
       "5780         1  \n",
       "5781         1  \n",
       "\n",
       "[5782 rows x 4 columns]"
      ]
     },
     "execution_count": 24,
     "metadata": {},
     "output_type": "execute_result"
    }
   ],
   "source": [
    "data.reset_index(drop=True)"
   ]
  },
  {
   "cell_type": "markdown",
   "id": "c4163463",
   "metadata": {},
   "source": [
    "# Freq features"
   ]
  },
  {
   "cell_type": "code",
   "execution_count": 25,
   "id": "a52530a3",
   "metadata": {},
   "outputs": [],
   "source": [
    "freq_features = data.groupby('Patient-Uid').agg({'Incident': 'count'}).reset_index()\n",
    "freq_features.columns = ['Patient-Uid', 'Freq']"
   ]
  },
  {
   "cell_type": "markdown",
   "id": "700d8509",
   "metadata": {},
   "source": [
    "# Time features"
   ]
  },
  {
   "cell_type": "code",
   "execution_count": 26,
   "id": "8064f76c",
   "metadata": {},
   "outputs": [],
   "source": [
    "time_features = data.groupby('Patient-Uid').agg({'Date': ['min', 'max']}).reset_index()\n",
    "time_features.columns = ['Patient-Uid', 'Min_Date', 'Max_Date']\n",
    "time_features['Time_Diff'] = (pd.to_datetime(current_date) - time_features['Max_Date']).dt.days"
   ]
  },
  {
   "cell_type": "code",
   "execution_count": 27,
   "id": "bbc58811",
   "metadata": {},
   "outputs": [],
   "source": [
    "data = pd.merge(data, freq_features, on='Patient-Uid', how='left')\n",
    "data = pd.merge(data, time_features, on='Patient-Uid', how='left')"
   ]
  },
  {
   "cell_type": "code",
   "execution_count": 28,
   "id": "a7555a18",
   "metadata": {},
   "outputs": [],
   "source": [
    "data.isnull().sum()\n",
    "data.fillna(0,inplace=True)"
   ]
  },
  {
   "cell_type": "code",
   "execution_count": 29,
   "id": "9a74a51b",
   "metadata": {},
   "outputs": [],
   "source": [
    "features = ['Freq', 'Time_Diff']\n",
    "target = 'Eligible'\n",
    "X=data[features]\n",
    "y=data[target]"
   ]
  },
  {
   "cell_type": "code",
   "execution_count": 30,
   "id": "0dbcb2e9",
   "metadata": {},
   "outputs": [],
   "source": [
    "from sklearn.model_selection import train_test_split\n",
    "from sklearn.metrics import f1_score\n",
    "from sklearn.ensemble import RandomForestClassifier\n",
    "from sklearn.linear_model import LogisticRegression\n",
    "from sklearn.metrics import classification_report\n",
    "\n",
    "from sklearn.neighbors import KNeighborsClassifier\n",
    "from sklearn.svm import SVC\n",
    "from sklearn.tree import DecisionTreeClassifier\n",
    "from sklearn.ensemble import RandomForestClassifier,GradientBoostingClassifier\n",
    "X_train, X_test, y_train, y_test = train_test_split(X,y,test_size=0.2,random_state=42)"
   ]
  },
  {
   "cell_type": "code",
   "execution_count": 31,
   "id": "616f3634",
   "metadata": {},
   "outputs": [
    {
     "name": "stdout",
     "output_type": "stream",
     "text": [
      "F1 score: 0.915\n"
     ]
    }
   ],
   "source": [
    "rf = RandomForestClassifier(n_estimators=100, random_state=42)\n",
    "rf.fit(X_train,y_train)\n",
    "\n",
    "# Make predictions on the validation set\n",
    "y_pred = rf.predict(X_test)\n",
    "f1 = f1_score(y_test,y_pred)\n",
    "\n",
    "print(f\"F1 score: {f1:.3f}\")"
   ]
  },
  {
   "cell_type": "code",
   "execution_count": 47,
   "id": "c66866db",
   "metadata": {},
   "outputs": [
    {
     "data": {
      "image/png": "[encoded data removed]",
      "text/plain": [
       "<Figure size 640x480 with 1 Axes>"
      ]
     },
     "metadata": {},
     "output_type": "display_data"
    }
   ],
   "source": [
    "# evaluating model by roc_auc curve\n",
    "fpr,tpr, thresold = roc_curve(y_test, y_pred)\n",
    "roc_auc = auc(fpr,tpr)\n",
    "plt.plot(fpr,tpr, label = 'AUC = %0.3f' % roc_auc)\n",
    "plt.plot([0,1],[0,1],'--')\n",
    "plt.title('ROC_AUC curve')\n",
    "plt.legend(loc='lower right')\n",
    "plt.xlabel('False positive rate')\n",
    "plt.ylabel('True positive rate')\n",
    "plt.show()"
   ]
  },
  {
   "cell_type": "code",
   "execution_count": 33,
   "id": "9366223e",
   "metadata": {},
   "outputs": [
    {
     "name": "stdout",
     "output_type": "stream",
     "text": [
      "F1 score: 0.906\n"
     ]
    }
   ],
   "source": [
    "model = LogisticRegression()\n",
    "model.fit(X_train, y_train)\n",
    "\n",
    "# Make predictions on the validation set\n",
    "y_pred_lg = model.predict(X_test)\n",
    "f1=f1_score(y_test,y_pred_lg)\n",
    "\n",
    "print(f\"F1 score: {f1:.3f}\")"
   ]
  },
  {
   "cell_type": "code",
   "execution_count": 35,
   "id": "63e661ef",
   "metadata": {},
   "outputs": [
    {
     "name": "stdout",
     "output_type": "stream",
     "text": [
      "F1 score: 0.874\n"
     ]
    }
   ],
   "source": [
    "# KNN model\n",
    "knn = KNeighborsClassifier(4)\n",
    "knn.fit(X_train,y_train)\n",
    "\n",
    "# Make predictions on the validation set\n",
    "y_pred_knn=knn.predict(X_test)\n",
    "f1=f1_score(y_test,y_pred_knn)\n",
    "print(f\"F1 score: {f1:.3f}\")"
   ]
  },
  {
   "cell_type": "markdown",
   "id": "7e286721",
   "metadata": {},
   "source": [
    "# Prediction on test_data"
   ]
  },
  {
   "cell_type": "code",
   "execution_count": 37,
   "id": "17196631",
   "metadata": {},
   "outputs": [],
   "source": [
    "df1=pd.read_parquet(\"test.parquet\")\n"
   ]
  },
  {
   "cell_type": "code",
   "execution_count": 38,
   "id": "08ee0fa1",
   "metadata": {},
   "outputs": [],
   "source": [
    "test_data=df1[:100000]"
   ]
  },
  {
   "cell_type": "code",
   "execution_count": 39,
   "id": "0514123e",
   "metadata": {},
   "outputs": [
    {
     "data": {
      "text/plain": [
       "(100000, 3)"
      ]
     },
     "execution_count": 39,
     "metadata": {},
     "output_type": "execute_result"
    }
   ],
   "source": [
    "test_data.shape"
   ]
  },
  {
   "cell_type": "code",
   "execution_count": 40,
   "id": "240497d5",
   "metadata": {},
   "outputs": [
    {
     "data": {
      "text/html": [
       "<div>\n",
       "<style scoped>\n",
       "    .dataframe tbody tr th:only-of-type {\n",
       "        vertical-align: middle;\n",
       "    }\n",
       "\n",
       "    .dataframe tbody tr th {\n",
       "        vertical-align: top;\n",
       "    }\n",
       "\n",
       "    .dataframe thead th {\n",
       "        text-align: right;\n",
       "    }\n",
       "</style>\n",
       "<table border=\"1\" class=\"dataframe\">\n",
       "  <thead>\n",
       "    <tr style=\"text-align: right;\">\n",
       "      <th></th>\n",
       "      <th>Patient-Uid</th>\n",
       "      <th>Date</th>\n",
       "      <th>Incident</th>\n",
       "    </tr>\n",
       "  </thead>\n",
       "  <tbody>\n",
       "    <tr>\n",
       "      <th>0</th>\n",
       "      <td>a0f9e8a9-1c7c-11ec-8d25-16262ee38c7f</td>\n",
       "      <td>2016-12-08</td>\n",
       "      <td>SYMPTOM_TYPE_0</td>\n",
       "    </tr>\n",
       "    <tr>\n",
       "      <th>1</th>\n",
       "      <td>a0f9e8a9-1c7c-11ec-8d25-16262ee38c7f</td>\n",
       "      <td>2018-10-17</td>\n",
       "      <td>DRUG_TYPE_0</td>\n",
       "    </tr>\n",
       "    <tr>\n",
       "      <th>2</th>\n",
       "      <td>a0f9e8a9-1c7c-11ec-8d25-16262ee38c7f</td>\n",
       "      <td>2017-12-01</td>\n",
       "      <td>DRUG_TYPE_2</td>\n",
       "    </tr>\n",
       "    <tr>\n",
       "      <th>3</th>\n",
       "      <td>a0f9e8a9-1c7c-11ec-8d25-16262ee38c7f</td>\n",
       "      <td>2018-12-05</td>\n",
       "      <td>DRUG_TYPE_1</td>\n",
       "    </tr>\n",
       "    <tr>\n",
       "      <th>4</th>\n",
       "      <td>a0f9e8a9-1c7c-11ec-8d25-16262ee38c7f</td>\n",
       "      <td>2017-11-04</td>\n",
       "      <td>SYMPTOM_TYPE_0</td>\n",
       "    </tr>\n",
       "  </tbody>\n",
       "</table>\n",
       "</div>"
      ],
      "text/plain": [
       "                            Patient-Uid       Date        Incident\n",
       "0  a0f9e8a9-1c7c-11ec-8d25-16262ee38c7f 2016-12-08  SYMPTOM_TYPE_0\n",
       "1  a0f9e8a9-1c7c-11ec-8d25-16262ee38c7f 2018-10-17     DRUG_TYPE_0\n",
       "2  a0f9e8a9-1c7c-11ec-8d25-16262ee38c7f 2017-12-01     DRUG_TYPE_2\n",
       "3  a0f9e8a9-1c7c-11ec-8d25-16262ee38c7f 2018-12-05     DRUG_TYPE_1\n",
       "4  a0f9e8a9-1c7c-11ec-8d25-16262ee38c7f 2017-11-04  SYMPTOM_TYPE_0"
      ]
     },
     "execution_count": 40,
     "metadata": {},
     "output_type": "execute_result"
    }
   ],
   "source": [
    "test_data.head()"
   ]
  },
  {
   "cell_type": "code",
   "execution_count": 41,
   "id": "79372994",
   "metadata": {},
   "outputs": [],
   "source": [
    "current_date_1=df1['Date'].max()"
   ]
  },
  {
   "cell_type": "code",
   "execution_count": 42,
   "id": "b15390ea",
   "metadata": {},
   "outputs": [],
   "source": [
    "# Create the features\n",
    "test_freq_features = test_data.groupby('Patient-Uid').agg({'Incident': 'count'}).reset_index()\n",
    "test_freq_features.columns = ['Patient-Uid', 'Freq']\n",
    "\n",
    "test_time_features = test_data.groupby('Patient-Uid').agg({'Date': ['min', 'max']}).reset_index()\n",
    "test_time_features.columns = ['Patient-Uid', 'Min_Date', 'Max_Date']\n",
    "test_time_features['Time_Diff'] = (pd.to_datetime('2020-08-04') - test_time_features['Max_Date']).dt.days\n",
    "\n",
    "# Merge the features\n",
    "test_data = pd.merge(test_data, test_freq_features, on='Patient-Uid', how='left')\n",
    "test_data = pd.merge(test_data, test_time_features, on='Patient-Uid', how='left')\n",
    "\n",
    "# Fill missing values with 0\n",
    "test_data.fillna(0, inplace=True)"
   ]
  },
  {
   "cell_type": "code",
   "execution_count": 43,
   "id": "e222bc76",
   "metadata": {},
   "outputs": [],
   "source": [
    "# Make predictions on the test data\n",
    "test_data['label'] = rf.predict(test_data[features])"
   ]
  },
  {
   "cell_type": "code",
   "execution_count": 44,
   "id": "73492a80",
   "metadata": {},
   "outputs": [],
   "source": [
    "# Save the predictions to a CSV file\n",
    "test_data[['Patient-Uid', 'label']].to_csv('final_submission.csv', index=False)\n",
    " "
   ]
  },
  {
   "cell_type": "code",
   "execution_count": 50,
   "id": "9f0fae21",
   "metadata": {},
   "outputs": [
    {
     "data": {
      "text/html": [
       "<div>\n",
       "<style scoped>\n",
       "    .dataframe tbody tr th:only-of-type {\n",
       "        vertical-align: middle;\n",
       "    }\n",
       "\n",
       "    .dataframe tbody tr th {\n",
       "        vertical-align: top;\n",
       "    }\n",
       "\n",
       "    .dataframe thead th {\n",
       "        text-align: right;\n",
       "    }\n",
       "</style>\n",
       "<table border=\"1\" class=\"dataframe\">\n",
       "  <thead>\n",
       "    <tr style=\"text-align: right;\">\n",
       "      <th></th>\n",
       "      <th>Patient-Uid</th>\n",
       "      <th>label</th>\n",
       "    </tr>\n",
       "  </thead>\n",
       "  <tbody>\n",
       "    <tr>\n",
       "      <th>0</th>\n",
       "      <td>a0f9e8a9-1c7c-11ec-8d25-16262ee38c7f</td>\n",
       "      <td>0</td>\n",
       "    </tr>\n",
       "    <tr>\n",
       "      <th>1</th>\n",
       "      <td>a0f9e8a9-1c7c-11ec-8d25-16262ee38c7f</td>\n",
       "      <td>0</td>\n",
       "    </tr>\n",
       "    <tr>\n",
       "      <th>2</th>\n",
       "      <td>a0f9e8a9-1c7c-11ec-8d25-16262ee38c7f</td>\n",
       "      <td>0</td>\n",
       "    </tr>\n",
       "    <tr>\n",
       "      <th>3</th>\n",
       "      <td>a0f9e8a9-1c7c-11ec-8d25-16262ee38c7f</td>\n",
       "      <td>0</td>\n",
       "    </tr>\n",
       "    <tr>\n",
       "      <th>4</th>\n",
       "      <td>a0f9e8a9-1c7c-11ec-8d25-16262ee38c7f</td>\n",
       "      <td>0</td>\n",
       "    </tr>\n",
       "    <tr>\n",
       "      <th>5</th>\n",
       "      <td>a0f9e8a9-1c7c-11ec-8d25-16262ee38c7f</td>\n",
       "      <td>0</td>\n",
       "    </tr>\n",
       "    <tr>\n",
       "      <th>6</th>\n",
       "      <td>a0f9e8a9-1c7c-11ec-8d25-16262ee38c7f</td>\n",
       "      <td>0</td>\n",
       "    </tr>\n",
       "    <tr>\n",
       "      <th>7</th>\n",
       "      <td>a0f9e8a9-1c7c-11ec-8d25-16262ee38c7f</td>\n",
       "      <td>0</td>\n",
       "    </tr>\n",
       "    <tr>\n",
       "      <th>8</th>\n",
       "      <td>a0f9e8a9-1c7c-11ec-8d25-16262ee38c7f</td>\n",
       "      <td>0</td>\n",
       "    </tr>\n",
       "    <tr>\n",
       "      <th>9</th>\n",
       "      <td>a0f9e8a9-1c7c-11ec-8d25-16262ee38c7f</td>\n",
       "      <td>0</td>\n",
       "    </tr>\n",
       "  </tbody>\n",
       "</table>\n",
       "</div>"
      ],
      "text/plain": [
       "                            Patient-Uid  label\n",
       "0  a0f9e8a9-1c7c-11ec-8d25-16262ee38c7f      0\n",
       "1  a0f9e8a9-1c7c-11ec-8d25-16262ee38c7f      0\n",
       "2  a0f9e8a9-1c7c-11ec-8d25-16262ee38c7f      0\n",
       "3  a0f9e8a9-1c7c-11ec-8d25-16262ee38c7f      0\n",
       "4  a0f9e8a9-1c7c-11ec-8d25-16262ee38c7f      0\n",
       "5  a0f9e8a9-1c7c-11ec-8d25-16262ee38c7f      0\n",
       "6  a0f9e8a9-1c7c-11ec-8d25-16262ee38c7f      0\n",
       "7  a0f9e8a9-1c7c-11ec-8d25-16262ee38c7f      0\n",
       "8  a0f9e8a9-1c7c-11ec-8d25-16262ee38c7f      0\n",
       "9  a0f9e8a9-1c7c-11ec-8d25-16262ee38c7f      0"
      ]
     },
     "execution_count": 50,
     "metadata": {},
     "output_type": "execute_result"
    }
   ],
   "source": [
    "final_submission=pd.read_csv(\"final_submission.csv\")\n",
    "final_submission.head(10)"
   ]
  },
  {
   "cell_type": "code",
   "execution_count": 51,
   "id": "cb0bf9dd",
   "metadata": {},
   "outputs": [
    {
     "data": {
      "text/plain": [
       "0    96131\n",
       "1     3869\n",
       "Name: label, dtype: int64"
      ]
     },
     "execution_count": 51,
     "metadata": {},
     "output_type": "execute_result"
    }
   ],
   "source": [
    "final_submission[\"label\"].value_counts()"
   ]
  },
  {
   "cell_type": "code",
   "execution_count": null,
   "id": "6ba25664",
   "metadata": {},
   "outputs": [],
   "source": []
  }
 ],
 "metadata": {
  "kernelspec": {
   "display_name": "Python 3 (ipykernel)",
   "language": "python",
   "name": "python3"
  },
  "language_info": {
   "codemirror_mode": {
    "name": "ipython",
    "version": 3
   },
   "file_extension": ".py",
   "mimetype": "text/x-python",
   "name": "python",
   "nbconvert_exporter": "python",
   "pygments_lexer": "ipython3",
   "version": "3.10.9"
  }
 },
 "nbformat": 4,
 "nbformat_minor": 5
}
